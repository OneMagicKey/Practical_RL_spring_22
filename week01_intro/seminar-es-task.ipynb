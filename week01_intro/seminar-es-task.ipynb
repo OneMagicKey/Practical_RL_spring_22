{
 "cells": [
  {
   "cell_type": "markdown",
   "metadata": {},
   "source": [
    "## Evolution Strategies\n",
    "\n",
    "![img](https://t4.ftcdn.net/jpg/00/17/46/81/240_F_17468143_wY3hsHyfNYoMdG9BlC56HI4JA7pNu63h.jpg)\n",
    "\n",
    "[The paper about the algorithm](https://arxiv.org/abs/1703.03864)\n",
    "\n",
    "Plan:\n",
    "* Study how to use OpenAI gym\n",
    "* Basic prototype of evolutionary strategies that works in one thread on CartPole\n",
    "* Modify the code to make them work in parallel\n",
    "* Use the algorithm to solve the LunarLander\n",
    "* Analyse the influence of hyperparameters"
   ]
  },
  {
   "cell_type": "code",
   "execution_count": 1,
   "metadata": {},
   "outputs": [],
   "source": [
    "import sys, os\n",
    "if 'google.colab' in sys.modules and not os.path.exists('.setup_complete'):\n",
    "    !wget -q https://raw.githubusercontent.com/yandexdataschool/Practical_RL/master/setup_colab.sh -O- | bash\n",
    "\n",
    "    !touch .setup_complete\n",
    "\n",
    "# This code creates a virtual display to draw game images on.\n",
    "# It will have no effect if your machine has a monitor.\n",
    "if type(os.environ.get(\"DISPLAY\")) is not str or len(os.environ.get(\"DISPLAY\")) == 0:\n",
    "    !bash ../xvfb start\n",
    "    os.environ['DISPLAY'] = ':1'"
   ]
  },
  {
   "cell_type": "code",
   "execution_count": 2,
   "metadata": {},
   "outputs": [],
   "source": [
    "import numpy as np\n",
    "import matplotlib.pyplot as plt\n",
    "\n",
    "import torch\n",
    "import torch.nn as nn\n",
    "import time\n",
    "from copy import deepcopy\n",
    "from joblib import Parallel, delayed\n",
    "from IPython.display import clear_output\n",
    "from IPython import display\n",
    " \n",
    "%matplotlib inline"
   ]
  },
  {
   "cell_type": "markdown",
   "metadata": {},
   "source": [
    "# OpenAI gym environment"
   ]
  },
  {
   "cell_type": "code",
   "execution_count": 3,
   "metadata": {},
   "outputs": [
    {
     "name": "stdout",
     "output_type": "stream",
     "text": [
      "Observation space: Box([-4.8000002e+00 -3.4028235e+38 -4.1887903e-01 -3.4028235e+38], [4.8000002e+00 3.4028235e+38 4.1887903e-01 3.4028235e+38], (4,), float32)\n",
      "Action space: Discrete(2)\n"
     ]
    },
    {
     "data": {
      "image/png": "[encoded data removed]",
      "text/plain": [
       "<Figure size 432x288 with 1 Axes>"
      ]
     },
     "metadata": {
      "needs_background": "light"
     },
     "output_type": "display_data"
    }
   ],
   "source": [
    "import gym\n",
    "\n",
    "tmp_env = gym.make(\"CartPole-v0\")\n",
    "tmp_env.reset()\n",
    "\n",
    "plt.imshow(tmp_env.render('rgb_array'))\n",
    "print(\"Observation space:\", tmp_env.observation_space)\n",
    "print(\"Action space:\", tmp_env.action_space)\n",
    "state_size = tmp_env.observation_space.shape[0]\n",
    "n_actions = tmp_env.action_space.n"
   ]
  },
  {
   "cell_type": "markdown",
   "metadata": {},
   "source": [
    "### How to interact with the environment"
   ]
  },
  {
   "cell_type": "code",
   "execution_count": 4,
   "metadata": {},
   "outputs": [
    {
     "name": "stdout",
     "output_type": "stream",
     "text": [
      "Initial observation: [-0.0441675   0.0355158  -0.03658269 -0.02903847]\n",
      "At each step it returns:\n",
      "new observation code: [-0.04345718 -0.15906295 -0.03716346  0.25188148]\n",
      "reward: 1.0\n",
      "is game over?: False\n"
     ]
    }
   ],
   "source": [
    "print(\"Initial observation:\", tmp_env.reset())\n",
    "\n",
    "new_s, reward, done, _ = tmp_env.step(0)\n",
    "print(\"At each step it returns:\")\n",
    "\n",
    "print(\"new observation code:\", new_s)\n",
    "print(\"reward:\", reward)\n",
    "print(\"is game over?:\", done)"
   ]
  },
  {
   "cell_type": "markdown",
   "metadata": {},
   "source": [
    "### Display an episode"
   ]
  },
  {
   "cell_type": "code",
   "execution_count": 5,
   "metadata": {},
   "outputs": [],
   "source": [
    "def display_session(env, agent, t_max=500):\n",
    "    total_reward = 0\n",
    "    plt.figure(figsize=(4, 3))\n",
    "    display.clear_output(wait=True)\n",
    "\n",
    "    s = env.reset()\n",
    "    \n",
    "    for t in range(t_max):\n",
    "        plt.gca().clear()\n",
    "        \n",
    "        a = agent.get_action(torch.tensor(s).float())\n",
    "        new_s, r, done, info = env.step(a)\n",
    "        s = new_s\n",
    "        total_reward += r\n",
    "        # Draw game image on display.\n",
    "        plt.imshow(env.render('rgb_array'))\n",
    "\n",
    "        display.display(plt.gcf())\n",
    "        display.clear_output(wait=True)\n",
    "        \n",
    "        if done:\n",
    "            break\n",
    "            \n",
    "    return total_reward"
   ]
  },
  {
   "cell_type": "markdown",
   "metadata": {},
   "source": [
    "### Random policy"
   ]
  },
  {
   "cell_type": "code",
   "execution_count": 6,
   "metadata": {},
   "outputs": [],
   "source": [
    "class RandomPolicy:\n",
    "    pass"
   ]
  },
  {
   "cell_type": "code",
   "execution_count": 7,
   "metadata": {},
   "outputs": [
    {
     "name": "stdout",
     "output_type": "stream",
     "text": [
      "Total reward:  16.0\n"
     ]
    },
    {
     "data": {
      "image/png": "[encoded data removed]",
      "text/plain": [
       "<Figure size 288x216 with 1 Axes>"
      ]
     },
     "metadata": {
      "needs_background": "light"
     },
     "output_type": "display_data"
    }
   ],
   "source": [
    "total_reward = display_session(tmp_env, RandomPolicy(n_actions))\n",
    "print('Total reward: ', total_reward)"
   ]
  },
  {
   "cell_type": "markdown",
   "metadata": {},
   "source": [
    "# The challenge of the day"
   ]
  },
  {
   "cell_type": "markdown",
   "metadata": {},
   "source": [
    "![Algorithm](https://i.ibb.co/zFm6BrB/Screenshot-from-2021-09-17-13-38-00.png)"
   ]
  },
  {
   "cell_type": "markdown",
   "metadata": {},
   "source": [
    "### Model evaluation"
   ]
  },
  {
   "cell_type": "code",
   "execution_count": 8,
   "metadata": {},
   "outputs": [],
   "source": [
    "def generate_session(env, agent, t_max=500):\n",
    "    total_reward = 0\n",
    "    s = env.reset()\n",
    "    \n",
    "    for t in range(t_max):\n",
    "        a = agent.get_action(torch.tensor(s).float())\n",
    "        new_s, r, done, info = env.step(a)\n",
    "        total_reward += r\n",
    "        s = new_s\n",
    "        \n",
    "        if done:\n",
    "            break\n",
    "            \n",
    "    return total_reward\n",
    "\n",
    "\n",
    "def score(env, agent, n=10, t_max=500):\n",
    "    pass"
   ]
  },
  {
   "cell_type": "markdown",
   "metadata": {},
   "source": [
    "### Modification of the model using a noise "
   ]
  },
  {
   "cell_type": "code",
   "execution_count": 9,
   "metadata": {},
   "outputs": [],
   "source": [
    "def add_noise_to_model(model, noise, copy=False):\n",
    "    pass"
   ]
  },
  {
   "cell_type": "markdown",
   "metadata": {},
   "source": [
    "### Controller of the evolution\n",
    "\n",
    "#### Task 1: Implement the algorithm"
   ]
  },
  {
   "cell_type": "code",
   "execution_count": 10,
   "metadata": {},
   "outputs": [],
   "source": [
    "class EvolutionManager:\n",
    "    def __init__(self, get_env_function, lr=0.001, std=0.01, n_samples = 64, normalize=True):\n",
    "        super().__init__()\n",
    "        \n",
    "        self.lr = lr\n",
    "        self.std = std\n",
    "        self.normalize = normalize\n",
    "        self.n_samples = n_samples\n",
    "        self.mean_reward_history = []\n",
    "        \n",
    "        self.env = get_env_function()\n",
    "        \n",
    "    def get_noised_model(self, model):\n",
    "        pass\n",
    "\n",
    "    def optimize(self, model, noises, rewards):\n",
    "        pass\n",
    "    \n",
    "    def step(self, model):\n",
    "        pass\n",
    "        \n",
    "    def update_log(self, rewards):\n",
    "        mean_reward = np.mean(rewards)\n",
    "        self.mean_reward_history.append(mean_reward)\n",
    "\n",
    "        clear_output(True)\n",
    "        print(\"last mean reward = %.3f\" % mean_reward)\n",
    "        plt.figure(figsize=[8, 4])\n",
    "        plt.subplot(1, 2, 1)\n",
    "        plt.plot(self.mean_reward_history, label='Mean rewards')\n",
    "        plt.legend()\n",
    "        plt.grid()\n",
    "\n",
    "        plt.subplot(1, 2, 2)\n",
    "        plt.hist(rewards)\n",
    "        plt.grid()\n",
    "\n",
    "        plt.show()\n",
    "    "
   ]
  },
  {
   "cell_type": "markdown",
   "metadata": {},
   "source": [
    "#### Task 2: Implement a neural network-based policy"
   ]
  },
  {
   "cell_type": "markdown",
   "metadata": {},
   "source": [
    "### Neural policy"
   ]
  },
  {
   "cell_type": "code",
   "execution_count": 11,
   "metadata": {},
   "outputs": [],
   "source": [
    "class MLPPolicy(nn.Module):\n",
    "    pass"
   ]
  },
  {
   "cell_type": "markdown",
   "metadata": {},
   "source": [
    "### Environment 1: CartPole-v0"
   ]
  },
  {
   "cell_type": "code",
   "execution_count": 19,
   "metadata": {},
   "outputs": [],
   "source": [
    "def get_env_function():\n",
    "    env = gym.make('CartPole-v0').env\n",
    "    return env\n",
    "tmp_env = get_env_function()"
   ]
  },
  {
   "cell_type": "code",
   "execution_count": 20,
   "metadata": {},
   "outputs": [],
   "source": [
    "n_states = tmp_env.observation_space.shape[0]\n",
    "n_actions = tmp_env.action_space.n\n",
    "model = <>"
   ]
  },
  {
   "cell_type": "code",
   "execution_count": 21,
   "metadata": {},
   "outputs": [
    {
     "name": "stdout",
     "output_type": "stream",
     "text": [
      "last mean reward = 493.230\n"
     ]
    },
    {
     "data": {
      "image/png": "[encoded data removed]",
      "text/plain": [
       "<Figure size 576x288 with 2 Axes>"
      ]
     },
     "metadata": {
      "needs_background": "light"
     },
     "output_type": "display_data"
    },
    {
     "name": "stdout",
     "output_type": "stream",
     "text": [
      "3.485602855682373\n"
     ]
    }
   ],
   "source": [
    "algorithm = <>\n",
    "\n",
    "for i in range(15):\n",
    "    t = time.time()\n",
    "    algorithm.step(model)\n",
    "    print(time.time() - t)"
   ]
  },
  {
   "cell_type": "code",
   "execution_count": 15,
   "metadata": {},
   "outputs": [
    {
     "data": {
      "text/plain": [
       "500.0"
      ]
     },
     "execution_count": 15,
     "metadata": {},
     "output_type": "execute_result"
    },
    {
     "data": {
      "image/png": "[encoded data removed]",
      "text/plain": [
       "<Figure size 288x216 with 1 Axes>"
      ]
     },
     "metadata": {
      "needs_background": "light"
     },
     "output_type": "display_data"
    }
   ],
   "source": [
    "display_session(tmp_env, model, t_max=500)"
   ]
  },
  {
   "cell_type": "markdown",
   "metadata": {},
   "source": [
    "#### Task 3: Implement and compare the parallelized version of the algorithm"
   ]
  },
  {
   "cell_type": "code",
   "execution_count": 22,
   "metadata": {},
   "outputs": [],
   "source": [
    "model = <>"
   ]
  },
  {
   "cell_type": "code",
   "execution_count": null,
   "metadata": {},
   "outputs": [
    {
     "name": "stdout",
     "output_type": "stream",
     "text": [
      "last mean reward = 353.210\n"
     ]
    },
    {
     "data": {
      "image/png": "[encoded data removed]",
      "text/plain": [
       "<Figure size 576x288 with 2 Axes>"
      ]
     },
     "metadata": {
      "needs_background": "light"
     },
     "output_type": "display_data"
    },
    {
     "name": "stdout",
     "output_type": "stream",
     "text": [
      "26.267060041427612\n"
     ]
    }
   ],
   "source": [
    "algorithm = <>\n",
    "\n",
    "for i in range(15):\n",
    "    t = time.time()\n",
    "    algorithm.step(model)\n",
    "    print(time.time() - t)"
   ]
  },
  {
   "cell_type": "markdown",
   "metadata": {},
   "source": [
    "### Environment 2: LunarLanderContinuous-v2"
   ]
  },
  {
   "cell_type": "code",
   "execution_count": 16,
   "metadata": {},
   "outputs": [
    {
     "name": "stdout",
     "output_type": "stream",
     "text": [
      "last mean reward = 155.350\n"
     ]
    },
    {
     "data": {
      "image/png": "[encoded data removed]",
      "text/plain": [
       "<Figure size 576x288 with 2 Axes>"
      ]
     },
     "metadata": {
      "needs_background": "light"
     },
     "output_type": "display_data"
    }
   ],
   "source": [
    "def get_env_function():\n",
    "    env = gym.make('LunarLanderContinuous-v2').env\n",
    "    return env\n",
    "tmp_env = get_env_function()\n",
    "n_states = tmp_env.observation_space.shape[0]\n",
    "n_actions = tmp_env.action_space.shape[0]\n",
    "model = <>\n",
    "algorithm = <>\n",
    "for i in range(1000):\n",
    "    algorithm.step(model)"
   ]
  },
  {
   "cell_type": "code",
   "execution_count": 17,
   "metadata": {},
   "outputs": [
    {
     "data": {
      "text/plain": [
       "297.1928817226966"
      ]
     },
     "execution_count": 17,
     "metadata": {},
     "output_type": "execute_result"
    },
    {
     "data": {
      "image/png": "[encoded data removed]",
      "text/plain": [
       "<Figure size 288x216 with 1 Axes>"
      ]
     },
     "metadata": {
      "needs_background": "light"
     },
     "output_type": "display_data"
    }
   ],
   "source": [
    "display_session(tmp_env, model, t_max=500)"
   ]
  },
  {
   "cell_type": "markdown",
   "metadata": {},
   "source": [
    "### Task 3: Hyperparameter's analysis"
   ]
  },
  {
   "cell_type": "markdown",
   "metadata": {},
   "source": [
    "Now we are going to do some experimental analysis of the algorithm.\n",
    "\n",
    "Plan:\n",
    "- to learn something about the *std* parameter\n",
    "- to learn something about the *learning rate* parameter\n",
    "- to learn something about the *n_samples* parameter"
   ]
  },
  {
   "cell_type": "code",
   "execution_count": null,
   "metadata": {},
   "outputs": [],
   "source": []
  }
 ],
 "metadata": {
  "kernelspec": {
   "display_name": "Python 3",
   "language": "python",
   "name": "python3"
  },
  "language_info": {
   "codemirror_mode": {
    "name": "ipython",
    "version": 3
   },
   "file_extension": ".py",
   "mimetype": "text/x-python",
   "name": "python",
   "nbconvert_exporter": "python",
   "pygments_lexer": "ipython3",
   "version": "3.8.5"
  }
 },
 "nbformat": 4,
 "nbformat_minor": 2
}
